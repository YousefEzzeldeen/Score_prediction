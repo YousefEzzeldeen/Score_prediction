{
 "cells": [
  {
   "cell_type": "markdown",
   "metadata": {
    "id": "vK_Pkw4FJGUz"
   },
   "source": [
    "# Linear Regression\n",
    "\n",
    "\n",
    "### This document is for the Third task of The Spark Foundation (GRIP #2022). \n",
    "### The main goal of the project is to predict the score of studyents based on the studing duration of each.\n",
    "### Since this is considered a single variable prediction, we'll use a simple linear regression model.\n",
    "\n",
    "#### Authered by: Yousef Ezzeldeen"
   ]
  },
  {
   "cell_type": "code",
   "execution_count": 2,
   "metadata": {
    "id": "KDi1_XmlJKzm"
   },
   "outputs": [],
   "source": [
    "# importing libraries\n",
    "\n",
    "import pandas as pd\n",
    "import numpy as np\n",
    "import matplotlib.pyplot as plt\n",
    "% matplotlib inline \n",
    "from sklearn.linear_model import LinearRegression\n"
   ]
  },
  {
   "cell_type": "code",
   "execution_count": 3,
   "metadata": {
    "colab": {
     "base_uri": "https://localhost:8080/"
    },
    "id": "fBSNOk9Wt7in",
    "outputId": "89a9c35d-4dbd-4346-db59-ec2c24a7098b"
   },
   "outputs": [
    {
     "name": "stdout",
     "output_type": "stream",
     "text": [
      "   Hours  Scores\n",
      "0    2.5      21\n",
      "1    5.1      47\n",
      "2    3.2      27\n",
      "3    8.5      75\n",
      "4    3.5      30\n"
     ]
    }
   ],
   "source": [
    "# Loading the dataset\n",
    "\n",
    "df = pd.read_csv(\"/Score.CSV\")\n",
    "print(df.head(5));"
   ]
  },
  {
   "cell_type": "code",
   "execution_count": 4,
   "metadata": {
    "colab": {
     "base_uri": "https://localhost:8080/",
     "height": 295
    },
    "id": "b4ue8dmByhtp",
    "outputId": "9bcac0f2-d9bb-40c1-c310-78c1d005d3f4"
   },
   "outputs": [
    {
     "data": {
      "image/png": "[encoded data removed]",
      "text/plain": [
       "<Figure size 432x288 with 1 Axes>"
      ]
     },
     "metadata": {
      "needs_background": "light"
     },
     "output_type": "display_data"
    }
   ],
   "source": [
    "# Plotting a visual to see the correlation.\n",
    "\n",
    "plt.scatter(x=df['Hours'], y=df['Scores'], )  \n",
    "plt.title('Hours vs Score')\n",
    "plt.xlabel('Hours')  \n",
    "plt.ylabel('Score')  \n",
    "plt.show();"
   ]
  },
  {
   "cell_type": "code",
   "execution_count": 5,
   "metadata": {
    "id": "suP6xSnf1Uwl"
   },
   "outputs": [],
   "source": [
    "# Preparing data\n",
    "\n",
    "X = df.iloc[:, :-1].values  \n",
    "y = df.iloc[:, 1].values \n",
    "from sklearn.model_selection import train_test_split  \n",
    "X_train, X_test, y_train, y_test = train_test_split(X, y, \n",
    "                            test_size=0.2, random_state=0) "
   ]
  },
  {
   "cell_type": "code",
   "execution_count": 6,
   "metadata": {
    "colab": {
     "base_uri": "https://localhost:8080/"
    },
    "id": "KQJH9CIFvf2V",
    "outputId": "251e9cf3-7c9d-474a-dfdb-32e30634c57a"
   },
   "outputs": [
    {
     "data": {
      "text/plain": [
       "LinearRegression()"
      ]
     },
     "execution_count": 6,
     "metadata": {},
     "output_type": "execute_result"
    }
   ],
   "source": [
    "# Fitting the model\n",
    "\n",
    "model = LinearRegression()\n",
    "model.fit(X_train,y_train)\n"
   ]
  },
  {
   "cell_type": "code",
   "execution_count": 7,
   "metadata": {
    "colab": {
     "base_uri": "https://localhost:8080/"
    },
    "id": "ir5HiAwZwKyq",
    "outputId": "1d12f1e8-1d87-4b09-d8ca-f5e779dc99a2"
   },
   "outputs": [
    {
     "name": "stdout",
     "output_type": "stream",
     "text": [
      "[16.88414476 33.73226078 75.357018   26.79480124 60.49103328]\n"
     ]
    }
   ],
   "source": [
    "# making preictions\n",
    "\n",
    "y_pred = model.predict(X_test)\n",
    "print(y_pred)"
   ]
  },
  {
   "cell_type": "code",
   "execution_count": 9,
   "metadata": {
    "colab": {
     "base_uri": "https://localhost:8080/"
    },
    "id": "tPu98UPdwvEl",
    "outputId": "382f159a-2e0b-45e2-acf5-bd3a5d65b452"
   },
   "outputs": [
    {
     "name": "stdout",
     "output_type": "stream",
     "text": [
      "Mean Absolute Error: 4.183859899002982\n"
     ]
    }
   ],
   "source": [
    "# Model Evaluation\n",
    "\n",
    "from sklearn import metrics  \n",
    "print('Mean Absolute Error:', \n",
    "      metrics.mean_absolute_error(y_test, y_pred)) "
   ]
  },
  {
   "cell_type": "code",
   "execution_count": 8,
   "metadata": {
    "colab": {
     "base_uri": "https://localhost:8080/"
    },
    "id": "fBe0xBb62qVi",
    "outputId": "888ba8d9-9491-469e-dd9b-7db695fcdc3a"
   },
   "outputs": [
    {
     "name": "stdout",
     "output_type": "stream",
     "text": [
      "Score of 9.25 Hrs Study is 93.69 \n"
     ]
    }
   ],
   "source": [
    "# What would a sudent who studied for 9.25 Hrs get ?\n",
    "\n",
    "Score = model.predict([[9.25]])\n",
    "print(\"Score of 9.25 Hrs Study is {} \".format(str(Score)[1:6]));"
   ]
  },
  {
   "cell_type": "markdown",
   "metadata": {
    "id": "iinSh-BY37z4"
   },
   "source": [
    "### Thanks"
   ]
  }
 ],
 "metadata": {
  "colab": {
   "name": "Grade_prediction.ipynb",
   "provenance": []
  },
  "kernelspec": {
   "display_name": "Python 3",
   "language": "python",
   "name": "python3"
  },
  "language_info": {
   "codemirror_mode": {
    "name": "ipython",
    "version": 3
   },
   "file_extension": ".py",
   "mimetype": "text/x-python",
   "name": "python",
   "nbconvert_exporter": "python",
   "pygments_lexer": "ipython3",
   "version": "3.8.5"
  }
 },
 "nbformat": 4,
 "nbformat_minor": 1
}
